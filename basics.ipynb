{
 "cells": [
  {
   "cell_type": "code",
   "execution_count": null,
   "metadata": {},
   "outputs": [],
   "source": [
    "# importing matplotlib module\n",
    "from matplotlib import pyplot as plt\n",
    "# x -axis values\n",
    "x=[1,1,3,4]\n",
    "# y-axis values\n",
    "y=[1,2,3,8]\n",
    "#  function to plot \n",
    "plt.plot(x,y)\n",
    "# function to show the plot\n",
    "plt.show()\n"
   ]
  },
  {
   "cell_type": "code",
   "execution_count": null,
   "metadata": {},
   "outputs": [],
   "source": [
    "#  plotting 2 or more lines in the same graph\n",
    "x1=[1,1,3,4]\n",
    "y1=[1,2,3,8]\n",
    "plt.plot(x1,y1,label=\"line1\")\n",
    "\n",
    "x2=[2,5,6,8]\n",
    "y2=[1,2,3,8]\n",
    "plt.plot(x2,y2,label=\"line2\")\n",
    "\n",
    "plt.xlabel(\"x-axis\")\n",
    "plt.ylabel(\"y-axis\")\n",
    "plt.title(\"Two lines on same graph\")\n",
    "\n",
    "plt.show()\n",
    "\n",
    "\n",
    "\n"
   ]
  },
  {
   "cell_type": "code",
   "execution_count": null,
   "metadata": {},
   "outputs": [],
   "source": [
    "#  bar graph\n",
    "from matplotlib import pyplot as plt\n",
    "\n",
    "# x-cordinates or left sides\n",
    "left=[1,2,3,4,5]\n",
    "# height of bars\n",
    "height=[5,10,15,20,25]\n",
    "# labels for bars\n",
    "tick_label=[\"one\",\"two\",\"three\",\"four\",\"five\"]\n",
    "# naming x-axis\n",
    "plt.xlabel(\"y-axis\")\n",
    "plt.ylabel(\"x-axis\")\n",
    "plt.bar(left,height,width=.8,color=(\"yellow\",\"blue\"))\n",
    "plt.title(\"Statistics\")"
   ]
  },
  {
   "cell_type": "code",
   "execution_count": 33,
   "metadata": {},
   "outputs": [],
   "source": [
    "#  scatter graph\n",
    "#  do it"
   ]
  },
  {
   "cell_type": "code",
   "execution_count": 32,
   "metadata": {},
   "outputs": [],
   "source": [
    "#  pie chart\n",
    "# do it"
   ]
  },
  {
   "cell_type": "code",
   "execution_count": null,
   "metadata": {},
   "outputs": [],
   "source": [
    "# histogram\n",
    "from matplotlib import pyplot as plt\n",
    "import numpy as np\n",
    "# creating dataset\n",
    "a=np.array([10,60,50,24,32,85,98,45,76,62,15,42,58,63,14,78])\n",
    "# creating histogram\n",
    "fig,ax=plt.subplots(figsize=(10,7))\n",
    "ax.hist(a,bins=[0,20,40,60,80,100],width=10)\n",
    "plt.show()"
   ]
  },
  {
   "cell_type": "code",
   "execution_count": null,
   "metadata": {},
   "outputs": [],
   "source": [
    "#  plotting given equation\n",
    "from matplotlib import pyplot as plt\n",
    "import numpy as np\n",
    "#  x coordinates\n",
    "x=np.arange(0,2*(20),0.1)\n",
    "#  y coordinates\n",
    "y=np.sin(x)\n",
    "plt.plot(x,y)\n"
   ]
  }
 ],
 "metadata": {
  "kernelspec": {
   "display_name": "Python 3",
   "language": "python",
   "name": "python3"
  },
  "language_info": {
   "codemirror_mode": {
    "name": "ipython",
    "version": 3
   },
   "file_extension": ".py",
   "mimetype": "text/x-python",
   "name": "python",
   "nbconvert_exporter": "python",
   "pygments_lexer": "ipython3",
   "version": "3.11.3"
  },
  "orig_nbformat": 4
 },
 "nbformat": 4,
 "nbformat_minor": 2
}
